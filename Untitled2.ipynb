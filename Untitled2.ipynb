{
 "cells": [
  {
   "cell_type": "code",
   "execution_count": 13,
   "id": "d4e774fd",
   "metadata": {},
   "outputs": [
    {
     "name": "stdout",
     "output_type": "stream",
     "text": [
      "    cars  passings\n",
      "0    BMW         3\n",
      "1  Volvo         7\n",
      "2   Ford         2\n"
     ]
    }
   ],
   "source": [
    "import pandas\n",
    "\n",
    "mydataset = {\n",
    "  'cars': [\"BMW\", \"Volvo\", \"Ford\"],\n",
    "  'passings': [3, 7, 2]\n",
    "}\n",
    "\n",
    "myvar = pandas.DataFrame(mydataset)\n",
    "\n",
    "print(myvar)"
   ]
  },
  {
   "cell_type": "code",
   "execution_count": 16,
   "id": "63d45bcc",
   "metadata": {},
   "outputs": [
    {
     "name": "stdout",
     "output_type": "stream",
     "text": [
      "    cars  passings\n",
      "0    BMW         3\n",
      "1  VOLVA         7\n",
      "2   TATA         2\n"
     ]
    }
   ],
   "source": [
    "# comma after trhe cars is to avoid the continous erroe\n",
    "import pandas as pa\n",
    "mydataset={\n",
    "    'cars':[\"BMW\",\"VOLVA\",\"TATA\"],\n",
    "    'passings':[3, 7, 2]\n",
    "}\n",
    "myvariable=pa.DataFrame(mydataset)\n",
    "    \n",
    "print(myvariable)"
   ]
  },
  {
   "cell_type": "code",
   "execution_count": 18,
   "id": "2c34d238",
   "metadata": {},
   "outputs": [
    {
     "name": "stdout",
     "output_type": "stream",
     "text": [
      "0    1\n",
      "1    7\n",
      "2    2\n",
      "dtype: int64\n"
     ]
    }
   ],
   "source": [
    "import pandas as pd\n",
    "a=[1,7,2]\n",
    "myava=pd.Series(a)\n",
    "print(myava)"
   ]
  },
  {
   "cell_type": "code",
   "execution_count": 20,
   "id": "a13e3485",
   "metadata": {},
   "outputs": [
    {
     "name": "stdout",
     "output_type": "stream",
     "text": [
      "0     1.64\n",
      "1    10.00\n",
      "2    11.00\n",
      "3    12.00\n",
      "dtype: float64\n"
     ]
    }
   ],
   "source": [
    "import pandas as pa\n",
    "a=[1.64,10,11,12]\n",
    "myava=pa.Series(a)\n",
    "print(myava)\n"
   ]
  },
  {
   "cell_type": "code",
   "execution_count": 26,
   "id": "d03e3798",
   "metadata": {},
   "outputs": [
    {
     "name": "stdout",
     "output_type": "stream",
     "text": [
      "x    10.00\n",
      "y     1.23\n",
      "z    50.00\n",
      "dtype: float64\n"
     ]
    }
   ],
   "source": [
    "import pandas as pa\n",
    "a=[10,1.23,50]\n",
    "myava=pa.Series(a, index=[\"x\",\"y\",\"z\"])\n",
    "print(myava)"
   ]
  },
  {
   "cell_type": "code",
   "execution_count": 25,
   "id": "be5c6f7c",
   "metadata": {},
   "outputs": [
    {
     "name": "stdout",
     "output_type": "stream",
     "text": [
      "x    1\n",
      "y    7\n",
      "z    2\n",
      "dtype: int64\n"
     ]
    }
   ],
   "source": [
    "import pandas as pd\n",
    "\n",
    "a = [1, 7, 2]\n",
    "\n",
    "myvar = pd.Series(a, index = [\"x\", \"y\", \"z\"])\n",
    "\n",
    "print(myvar)\n"
   ]
  },
  {
   "cell_type": "code",
   "execution_count": 31,
   "id": "917908c6",
   "metadata": {},
   "outputs": [
    {
     "name": "stdout",
     "output_type": "stream",
     "text": [
      "wheat       200\n",
      "rice       1000\n",
      "BARLLEY     400\n",
      "dtype: int64\n"
     ]
    }
   ],
   "source": [
    "import pandas as pa\n",
    "calories={\"wheat\":200,\"rice\":1000,\"BARLLEY\":400}\n",
    "lo=pa.Series(calories)\n",
    "print(lo)"
   ]
  },
  {
   "cell_type": "code",
   "execution_count": 39,
   "id": "4a9f601a",
   "metadata": {},
   "outputs": [
    {
     "name": "stdout",
     "output_type": "stream",
     "text": [
      "   calories  colories burn\n",
      "0       100             20\n",
      "1       200             50\n",
      "2       350             60\n",
      "3       400             40\n"
     ]
    }
   ],
   "source": [
    "import pandas as pa\n",
    "data={\n",
    "    'calories':[100, 200, 350, 400],\n",
    "    'colories burn':[20, 50, 60, 40]\n",
    "    \n",
    "}\n",
    "\n",
    "myvar=pa.DataFrame(data)\n",
    "print(myvar)"
   ]
  },
  {
   "cell_type": "code",
   "execution_count": 40,
   "id": "02de7204",
   "metadata": {},
   "outputs": [
    {
     "name": "stdout",
     "output_type": "stream",
     "text": [
      "   calories  duration\n",
      "0       420        50\n",
      "1       380        40\n",
      "2       390        45\n"
     ]
    }
   ],
   "source": [
    "import pandas as pd\n",
    "\n",
    "data = {\n",
    "  \"calories\": [420, 380, 390],\n",
    "  \"duration\": [50, 40, 45]\n",
    "}\n",
    "\n",
    "myvar = pd.DataFrame(data)\n",
    "\n",
    "print(myvar)"
   ]
  },
  {
   "cell_type": "code",
   "execution_count": 49,
   "id": "e7417564",
   "metadata": {},
   "outputs": [
    {
     "name": "stdout",
     "output_type": "stream",
     "text": [
      "calories    420\n",
      "duration     50\n",
      "Name: 0, dtype: int64\n"
     ]
    }
   ],
   "source": [
    "df=myvar\n",
    "print(df.loc[0])"
   ]
  },
  {
   "cell_type": "code",
   "execution_count": 52,
   "id": "7958ec4b",
   "metadata": {},
   "outputs": [
    {
     "name": "stdout",
     "output_type": "stream",
     "text": [
      "          COST       Fruits\n",
      "1KG        100  butterfruit\n",
      "1.2KG      200        mango\n",
      "1.2 KG     150         kiwi\n",
      "PERFRUIT   110    jackfruit\n"
     ]
    }
   ],
   "source": [
    "import pandas as pa\n",
    "data_user={\n",
    "    'COST':[100,200,150,110],\n",
    "    'Fruits':[\"butterfruit\",\"mango\",\"kiwi\",\"jackfruit\"]\n",
    "}\n",
    "\n",
    "myvar=pa.DataFrame(data_user,index=[\"1KG\",\"1.2KG\",\"1.2 KG\",\"PERFRUIT\"])\n",
    "print(myvar)\n"
   ]
  },
  {
   "cell_type": "code",
   "execution_count": null,
   "id": "268fed34",
   "metadata": {},
   "outputs": [],
   "source": [
    "#Load the CSV into a DataFrame:"
   ]
  },
  {
   "cell_type": "code",
   "execution_count": null,
   "id": "2e4ceecb",
   "metadata": {},
   "outputs": [],
   "source": [
    "#Print the DataFrame without the to_string() method:"
   ]
  },
  {
   "cell_type": "code",
   "execution_count": null,
   "id": "fcdd0988",
   "metadata": {},
   "outputs": [],
   "source": []
  },
  {
   "cell_type": "code",
   "execution_count": null,
   "id": "2656ba23",
   "metadata": {},
   "outputs": [],
   "source": []
  }
 ],
 "metadata": {
  "kernelspec": {
   "display_name": "Python 3 (ipykernel)",
   "language": "python",
   "name": "python3"
  },
  "language_info": {
   "codemirror_mode": {
    "name": "ipython",
    "version": 3
   },
   "file_extension": ".py",
   "mimetype": "text/x-python",
   "name": "python",
   "nbconvert_exporter": "python",
   "pygments_lexer": "ipython3",
   "version": "3.9.12"
  }
 },
 "nbformat": 4,
 "nbformat_minor": 5
}
