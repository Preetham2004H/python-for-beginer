{
 "cells": [
  {
   "cell_type": "code",
   "execution_count": 7,
   "id": "0ce718eb",
   "metadata": {},
   "outputs": [
    {
     "name": "stdout",
     "output_type": "stream",
     "text": [
      "a is greater than b\n"
     ]
    }
   ],
   "source": [
    "# code to check wether given number is greater than other or comparing between two number\n",
    "a=10\n",
    "b=11\n",
    "\n",
    "if a<b:\n",
    "    print(\"a is greater than b\")        \n",
    "    "
   ]
  },
  {
   "cell_type": "code",
   "execution_count": null,
   "id": "ced10a5f",
   "metadata": {},
   "outputs": [],
   "source": [
    "#code determine the age in voter application\n",
    "a=input(\"what is your name\")\n",
    "b=int(input(\"what is your age\"))\n",
    "if b<100:\n",
    "    b=100\n",
    "    print(\"You are eligible for voting\")\n",
    "elif b>18:\n",
    "    print(\"Your are not eligible for voting\")\n",
    "else:\n",
    "    print(\"Sorry system is not able fetch your inforation\")"
   ]
  },
  {
   "cell_type": "code",
   "execution_count": null,
   "id": "853e2004",
   "metadata": {},
   "outputs": [],
   "source": [
    "#checking the data in tuple which is un changable data type\n",
    "tup1=(1,2,3,4,5)\n",
    "if 2 in tup1:\n",
    "   print(\"2 is present in tup1\")\n",
    "else:\n",
    "   print(\"2 is not present\")\n",
    "    "
   ]
  },
  {
   "cell_type": "code",
   "execution_count": null,
   "id": "fbbc720d",
   "metadata": {},
   "outputs": [],
   "source": [
    "#checking equality using equal operatore\n",
    "list = [1,2,3,4,5]\n",
    "if list[1]==2:\n",
    "    print(\"statement is true\")\n",
    "else:\n",
    "    print(\"statement is flase\")"
   ]
  },
  {
   "cell_type": "code",
   "execution_count": null,
   "id": "f17941e8",
   "metadata": {},
   "outputs": [],
   "source": [
    "#modification of equality using if and else statement\n",
    "li=[1,2,3,4,5,6,7,8,9,0,10]\n",
    "if li[2]==10:\n",
    "    li[2]=li[2]+10\n",
    "else:\n",
    "    li[2]=li[2]+100\n",
    "    print(li)\n",
    "    "
   ]
  },
  {
   "cell_type": "code",
   "execution_count": null,
   "id": "588c113c",
   "metadata": {},
   "outputs": [],
   "source": [
    "#code for 10 natural numbers\n",
    "i=1\n",
    "while i<=10:\n",
    "    print(i)\n",
    "    i=i+1\n",
    "  \n",
    "\n",
    "\n"
   ]
  },
  {
   "cell_type": "code",
   "execution_count": null,
   "id": "35c848cd",
   "metadata": {},
   "outputs": [],
   "source": [
    "#code for three table\n",
    "i=1\n",
    "n=3\n",
    "while i<=20:\n",
    "    print(n,\"*\",i,\"=\",n*i)\n",
    "\n",
    "    i=i+1\n",
    "    "
   ]
  },
  {
   "cell_type": "code",
   "execution_count": null,
   "id": "4cc8cb45",
   "metadata": {},
   "outputs": [],
   "source": [
    "#code for area of rectangle\n",
    "x=input(\"what is the height of given rectangle\")\n",
    "y=input(\"what is the bredth of the given rectangle\")\n",
    "area=x*y\n",
    "print(\"Area of the given rectangle is\",area)\n"
   ]
  },
  {
   "cell_type": "code",
   "execution_count": null,
   "id": "16f2d1fa",
   "metadata": {},
   "outputs": [],
   "source": [
    "#code for area of the cirlce\n",
    "x= input(\"what is the radius of the circle you have\")\n",
    "pie=int(3.14)\n",
    "area=2*pie*x\n",
    "print(\"Area of circle is given is\",area)"
   ]
  },
  {
   "cell_type": "code",
   "execution_count": null,
   "id": "c2592e2b",
   "metadata": {},
   "outputs": [],
   "source": []
  },
  {
   "cell_type": "code",
   "execution_count": null,
   "id": "76e0cdfc",
   "metadata": {},
   "outputs": [],
   "source": []
  },
  {
   "cell_type": "code",
   "execution_count": null,
   "id": "a96706da",
   "metadata": {},
   "outputs": [],
   "source": []
  },
  {
   "cell_type": "code",
   "execution_count": null,
   "id": "82761e02",
   "metadata": {},
   "outputs": [],
   "source": []
  },
  {
   "cell_type": "code",
   "execution_count": null,
   "id": "28917cb7",
   "metadata": {},
   "outputs": [],
   "source": []
  },
  {
   "cell_type": "code",
   "execution_count": null,
   "id": "30d2129d",
   "metadata": {},
   "outputs": [],
   "source": []
  },
  {
   "cell_type": "code",
   "execution_count": null,
   "id": "0c75a02c",
   "metadata": {},
   "outputs": [],
   "source": []
  },
  {
   "cell_type": "code",
   "execution_count": null,
   "id": "7083536e",
   "metadata": {},
   "outputs": [],
   "source": []
  },
  {
   "cell_type": "code",
   "execution_count": null,
   "id": "548774d2",
   "metadata": {},
   "outputs": [],
   "source": []
  },
  {
   "cell_type": "code",
   "execution_count": null,
   "id": "7996bdf0",
   "metadata": {},
   "outputs": [],
   "source": []
  },
  {
   "cell_type": "code",
   "execution_count": null,
   "id": "9001a770",
   "metadata": {},
   "outputs": [],
   "source": []
  },
  {
   "cell_type": "code",
   "execution_count": null,
   "id": "2b1b1b79",
   "metadata": {},
   "outputs": [],
   "source": []
  },
  {
   "cell_type": "code",
   "execution_count": null,
   "id": "513aa266",
   "metadata": {},
   "outputs": [],
   "source": []
  },
  {
   "cell_type": "code",
   "execution_count": null,
   "id": "4cc98107",
   "metadata": {},
   "outputs": [],
   "source": []
  },
  {
   "cell_type": "code",
   "execution_count": null,
   "id": "fd32e433",
   "metadata": {},
   "outputs": [],
   "source": []
  }
 ],
 "metadata": {
  "kernelspec": {
   "display_name": "Python 3 (ipykernel)",
   "language": "python",
   "name": "python3"
  },
  "language_info": {
   "codemirror_mode": {
    "name": "ipython",
    "version": 3
   },
   "file_extension": ".py",
   "mimetype": "text/x-python",
   "name": "python",
   "nbconvert_exporter": "python",
   "pygments_lexer": "ipython3",
   "version": "3.9.12"
  }
 },
 "nbformat": 4,
 "nbformat_minor": 5
}
